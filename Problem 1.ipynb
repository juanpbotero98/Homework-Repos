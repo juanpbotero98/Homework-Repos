{
 "cells": [
  {
   "cell_type": "markdown",
   "id": "24df3b26",
   "metadata": {},
   "source": [
    "# Problem 1\n",
    "\n",
    "A male and female chimpanzee have blue (b) and brown eyes (B), respectively. With the following assumptions: assume simple genetic model in which brown eyes is always dominant, probability of mother being BB is 1/2 and the probability of her being Bb is 1/2, and each four gene configurations is equally probable. \n",
    "\n",
    "P(F is BB) = 1/2\n",
    "P(F is Bb) = 1/2\n",
    "\n",
    "Any configuration is equally likely --> 1/4"
   ]
  },
  {
   "cell_type": "markdown",
   "id": "a97c468d",
   "metadata": {},
   "source": [
    "### Part A\n",
    "\n",
    "Suppose you observe that they have a single child with brown eyes. What is the probabiltity that the female chimp has a blue-eyed gene?\n",
    "\n"
   ]
  },
  {
   "cell_type": "markdown",
   "id": "531757bd",
   "metadata": {},
   "source": [
    "We are looking for the probability that a mother has a blue-eyed gene GIVEN that their first child has brown eyes. --> p(F has Bb | C1 has brown eyes)\n",
    "\n",
    "Using Bayes rule --> P(x|y) = P(y|x)p(x)/p(y) \n",
    "\n",
    "We can assert that:\n",
    "        \n",
    "p(F has Bb | C1 has brown eyes) = p(child has brown eyes| F has Bb)*p(F is Bb)\n",
    "                                  --------------------------------------------\n",
    "                                         P(child has brown eyes)\n",
    "                                         \n",
    "Given that the mother has Bb, the child has probabiltiy of having Bb or BB. Since they are equally probably, this means the P(Bb) = P(BB) = 1/4\n",
    "\n",
    "Given that P(F is Bb) = 1/2, we can write the numerator as:\n",
    "\n",
    "(({1/4} + {1/4})*1/2)/P(child has brown eyes)\n",
    "\n",
    "P(y) can be evaluated as the sum of P(y,x) or specifically, the summation of  P(y|x)*p(x)\n",
    "\n",
    "In the case of this problem, we evaluate each condition of the mother and the result that would have on the child. Given the daughter has brown eyes, the mother must have Bb or BB\n",
    "\n",
    "As a result, we can rewrite the problem as:\n",
    "\n",
    "(({1/4} + {1/4})*1/2)/P(child has Brown| F is Bb) + P(child has brown|F is BB)*P(F is BB)\n",
    "\n",
    "IF the mother has both dominant genes (BB), then the child MUST have brown eyes. Hence P(child has brown| F is BB) = 1. We solved for the other parts of the denominator in the numerator. As such, the final solution becomes:\n",
    "\n",
    "     (({1/4} + {1/4})*1/2)\n",
    "    ----------------------\n",
    "     ({1/4} + {1/4})*1/2 + {1}*1/2 == 1/3\n",
    "\n",
    "As such, given that the mother has one brown eyed child, the probability that the mother has the recessive trait is approxiamtely 1/3 or 33%"
   ]
  },
  {
   "cell_type": "markdown",
   "id": "bbe0d2d3",
   "metadata": {},
   "source": [
    "### Part B\n",
    "\n",
    "Suppose we observe an additional child with brown eyes, what is the probability the mother has a blue-eyed gene.\n",
    "\n",
    "C1 = First child having brown eyes\n",
    "C2 = Second child having brown eyes\n",
    "\n",
    "We are looking for P(F has Bb| C1 & C2)\n",
    "\n",
    "If we assume that the color of the first childs eyes is INDEPENDENT of the color of the second childs eyes, we can write seperate probabilties for both cases. Applying Bayes rule again, we get the following equation:\n",
    "\n",
    "             P(C1|F is Bb)*P(C2|F is Bb)*1/2\n",
    "             -------------------------------\n",
    "                       P(C1 & C2)\n",
    "                       \n",
    "Similar to part A, the denominator can be written as the sum of cases in which the child has brown eyes given the mother is either Bb or BB\n",
    "\n",
    "             P(C1|F is Bb)*P(C2|F is Bb)*1/2\n",
    "             -------------------------------\n",
    "    P(C1|F is Bb)*P(C2|F is Bb)*1/2 + P(C1|F is BB)*P(C2|F is BB)*1/2\n",
    "    \n",
    "We know that if it is the case that the mother has BB, then the probabiltiy of the child having brown eyes = 1\n",
    "\n",
    "P(C1|F is BB) = P(C2|F is BB) = 1\n",
    "\n",
    "The other part of the denominator is simply the numerator and similar to the prior problems, given that there are two configurations, we can rewrite the equation as follows:\n",
    "\n",
    "             ({1/4} + {1/4})*({1/4} + {1/4})*1/2\n",
    "             ------------------------------------          == 1/5\n",
    "        ({1/4} + {1/4})*({1/4} + {1/4})*1/2 + {1}*{1}*1/2\n",
    "        \n",
    "        \n",
    "After performing the arithmetic, we can see that probability the mother has the blue-eyed gene GIVEN she has two brown eyed children is approximately 1/5 or 20%.\n",
    "\n",
    "\n"
   ]
  },
  {
   "cell_type": "markdown",
   "id": "9626cd15",
   "metadata": {},
   "source": [
    "### Part C\n",
    "\n",
    "Suppose they have N children who all have brown eyes, express the probabiltiy as a function of N"
   ]
  },
  {
   "cell_type": "markdown",
   "id": "99dd8293",
   "metadata": {},
   "source": [
    "Given that we can assume each child is independent of the other, we can effectively keep adding on terms for each child in the numerator and the denominator. In part B, we added on and additional ({1/4} + {1/4}) onto the numerator and the denominator. Furthermore, it will always be the case that if a child has brown eyes given that the mother has BB genes, the probabiltiy will always be 1 by the rules of genetics. Due to this, we will have an additional {1} in the denominator to denote that probability. \n",
    "\n",
    "If each child is independent of the last, we can simply keep adding ({1/4} + {1/4}) and {1} to their respective locations N times.\n",
    "\n",
    "As such, the equation will look like this:\n",
    "\n",
    "    P(C1|F has Bb)*P(C2|F has Bb)*...*P(CN|F has Bb)*P(F is Bb)\n",
    "    ------------------------------------------------------------\n",
    "    P(C1|F has Bb)*P(C2|F has Bb)*...*P(CN|F has Bb)*P(F is Bb) + P(C1| F has BB)*P(C2|F has BB)* ... *P(CN| F has BB)*P(F is BB)\n",
    "    \n",
    "Given that there are always two configuration for the child, it will always P(CN| F has Bb) will always reduce to ({1/4}+{1/4}) = 1/2. This can be rewritten as (1/2)^N\n",
    "\n",
    "Similarly in the denominator, each child that has brown eyes given the mother has BB will always reduce to {1}. For N children, this becomes {1}^N\n",
    "\n",
    "As such, the equation reduces down to:\n",
    "\n",
    "        {1/2}^N * 1/2\n",
    "        --------------------------\n",
    "        {1/2}^N * 1/2 + {1}^N * 1/2\n",
    "        \n",
    "Factor and cancel the 1/2's in the denominator and numerator and simplify the terms, we get a final expression:\n",
    "\n",
    "        1               1\n",
    "     --------   ==   --------\n",
    "     1^N + 2^N       1 + 2^N\n",
    "     \n",
    "     \n",
    "     \n",
    "If it is the case that each child the mother has has brown eyes, we can take the limit as N --> infinity which tends towards zero. \n",
    "\n",
    "As such, we can conclude that if the mother continues to have children who have brown eyes, the likelihood that she has the recessive blue-eyes trait becomes increasingly unlikely. As such, we can likely conclude that the mother has BB. \n",
    "\n",
    "We can check parts A and B with this equation:\n",
    "\n",
    "\n",
    "      1                            1\n",
    "    -----    ==  1/3       and   --------- == 1/5\n",
    "    1 + 2^1                       1 + 2^2"
   ]
  }
 ],
 "metadata": {
  "kernelspec": {
   "display_name": "Python 3 (ipykernel)",
   "language": "python",
   "name": "python3"
  },
  "language_info": {
   "codemirror_mode": {
    "name": "ipython",
    "version": 3
   },
   "file_extension": ".py",
   "mimetype": "text/x-python",
   "name": "python",
   "nbconvert_exporter": "python",
   "pygments_lexer": "ipython3",
   "version": "3.9.12"
  }
 },
 "nbformat": 4,
 "nbformat_minor": 5
}
