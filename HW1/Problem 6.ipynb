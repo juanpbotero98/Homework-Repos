{
 "cells": [
  {
   "cell_type": "code",
   "execution_count": 2,
   "id": "2ae74c22",
   "metadata": {},
   "outputs": [],
   "source": [
    "from scipy.io import loadmat\n",
    "import numpy as np\n",
    "import numpy.linalg as la\n",
    "import matplotlib.pyplot as plt\n",
    "\n",
    "mtxN = loadmat('mtxExamples.mat')\n"
   ]
  },
  {
   "cell_type": "markdown",
   "id": "3d25838d",
   "metadata": {},
   "source": [
    "Matrix 1"
   ]
  },
  {
   "cell_type": "code",
   "execution_count": 3,
   "id": "ed268e60",
   "metadata": {
    "scrolled": true
   },
   "outputs": [
    {
     "name": "stdout",
     "output_type": "stream",
     "text": [
      "[[ 6.14755957  0.02271354]\n",
      " [-2.1313486   8.21732199]\n",
      " [ 6.01301737  3.09142304]]\n"
     ]
    }
   ],
   "source": [
    "mtx1 = mtxN['mtx1']\n",
    "mtx2 = mtxN['mtx2']\n",
    "mtx3 = mtxN['mtx3']\n",
    "mtx4 = mtxN['mtx4']\n",
    "print(mtx1)"
   ]
  },
  {
   "cell_type": "code",
   "execution_count": 24,
   "id": "b660c016",
   "metadata": {},
   "outputs": [
    {
     "name": "stdout",
     "output_type": "stream",
     "text": [
      "Only null space is from the zero vector\n",
      "The matrix is not invertible\n",
      "Null space is defined by [array([-0.01209688, -0.44405777,  0.89591649]), array([ 0.99988947, -0.01311701,  0.00699935])]\n",
      "Verified by random vector [ 0.37307137  0.75216642 -1.52440778]\n",
      "Range space is defined by [array([-0.01209688, -0.44405777,  0.89591649]), array([ 0.99988947, -0.01311701,  0.00699935])]\n",
      "Verified by random vector y: [ 0.02043883 -0.5958463   0.04576914]\n",
      "Solving the linear system for x yielded: [[ 8.31057149e+13 -1.08023260e+17  7.74040320e+16]\n",
      " [ 2.39867516e+12 -0.00000000e+00 -7.68619005e+15]\n",
      " [-1.68899434e+08  7.54908396e+13 -2.39652227e+14]]\n",
      "Only null space is from the zero vector\n",
      "The matrix is not invertible\n",
      "Null space is defined by [array([0.54705244, 0.83709834])]\n",
      "Verified by random vector [-0.2323071  -0.35547576]\n",
      "The matrix is not invertible\n"
     ]
    }
   ],
   "source": [
    "def search_spaces(M):\n",
    "    U, s, V = np.linalg.svd(M, full_matrices = True)\n",
    "    ## Search for null basis \n",
    "    index_null = np.where(s<1e-5)\n",
    "    null_basis = []\n",
    "    for i in index_null[0]:\n",
    "        null_basis.append(V[:,i])\n",
    "    n_null = len(null_basis)\n",
    "    weights = np.random.randn(n_null)\n",
    "    rand_vector = np.array(null_basis).T@weights\n",
    "    y = M*rand_vector\n",
    "    if y.all() > 1e-20:\n",
    "        print('Null space is defined by {}'.format(null_basis))\n",
    "        print('Verified by random vector {}'.format(rand_vector))\n",
    "    else:\n",
    "        print('Only null space is from the zero vector')\n",
    "        \n",
    "    index_range = np.where(s < 1e-5)\n",
    "    range_basis = []\n",
    "    # try:\n",
    "    for i in index_range[0]:\n",
    "        range_basis.append(U[:,i])\n",
    "    n_range = len(range_basis)\n",
    "    weights = np.random.randn(n_range)\n",
    "    rand_vector = np.array(range_basis).T@weights\n",
    "    \n",
    "    try: \n",
    "        y = M*rand_vector\n",
    "        x = y*la.inv(M)\n",
    "        print('Range space is defined by {}'.format(null_basis))\n",
    "        print('Verified by random vector y: {}'.format(rand_vector))\n",
    "        print('Solving the linear system for x yielded: {}'.format(x))\n",
    "    except: \n",
    "        print('The matrix is not invertible')\n",
    "\n",
    "\n",
    "\n",
    "search_spaces(mtx1)\n",
    "search_spaces(mtx2)\n",
    "search_spaces(mtx3)\n",
    "search_spaces(mtx4)\n",
    "\n"
   ]
  },
  {
   "cell_type": "code",
   "execution_count": 9,
   "id": "e960e27d",
   "metadata": {
    "scrolled": true
   },
   "outputs": [
    {
     "name": "stderr",
     "output_type": "stream",
     "text": [
      "\n",
      "KeyboardInterrupt\n",
      "\n"
     ]
    }
   ],
   "source": [
    "search_spaces(mtx1)"
   ]
  },
  {
   "cell_type": "code",
   "execution_count": 5,
   "id": "43950240",
   "metadata": {},
   "outputs": [
    {
     "ename": "NameError",
     "evalue": "name 'rand_vector' is not defined",
     "output_type": "error",
     "traceback": [
      "\u001b[1;31m---------------------------------------------------------------------------\u001b[0m",
      "\u001b[1;31mNameError\u001b[0m                                 Traceback (most recent call last)",
      "\u001b[1;32mc:\\Users\\Juan Pablo Botero T\\OneDrive - Universidad de los Andes\\Documentos\\JPB\\Estudio\\MSc UofU\\Neural Data Analysis\\Homework Repos\\HW1\\Problem 6.ipynb Cell 6\u001b[0m in \u001b[0;36m<cell line: 1>\u001b[1;34m()\u001b[0m\n\u001b[1;32m----> <a href='vscode-notebook-cell:/c%3A/Users/Juan%20Pablo%20Botero%20T/OneDrive%20-%20Universidad%20de%20los%20Andes/Documentos/JPB/Estudio/MSc%20UofU/Neural%20Data%20Analysis/Homework%20Repos/HW1/Problem%206.ipynb#W5sZmlsZQ%3D%3D?line=0'>1</a>\u001b[0m rand_vector\n",
      "\u001b[1;31mNameError\u001b[0m: name 'rand_vector' is not defined"
     ]
    }
   ],
   "source": [
    "rand_vector"
   ]
  },
  {
   "cell_type": "code",
   "execution_count": 82,
   "id": "e5efa04b",
   "metadata": {
    "scrolled": true
   },
   "outputs": [
    {
     "data": {
      "text/plain": [
       "(2, 2)"
      ]
     },
     "execution_count": 82,
     "metadata": {},
     "output_type": "execute_result"
    }
   ],
   "source": [
    "np.shape(V)"
   ]
  },
  {
   "cell_type": "code",
   "execution_count": 101,
   "id": "08c483c5",
   "metadata": {},
   "outputs": [],
   "source": [
    "    U, s, V = np.linalg.svd(mtx1, full_matrices = True)\n",
    "    index_null = np.where(s==0)"
   ]
  },
  {
   "cell_type": "code",
   "execution_count": 102,
   "id": "a788aa4a",
   "metadata": {},
   "outputs": [
    {
     "data": {
      "text/plain": [
       "(array([], dtype=int64),)"
      ]
     },
     "execution_count": 102,
     "metadata": {},
     "output_type": "execute_result"
    }
   ],
   "source": [
    "index_null"
   ]
  },
  {
   "cell_type": "markdown",
   "id": "0ef4ceba",
   "metadata": {},
   "source": [
    "Matrix 2"
   ]
  },
  {
   "cell_type": "code",
   "execution_count": null,
   "id": "f67f8d56",
   "metadata": {},
   "outputs": [],
   "source": [
    "mtx2= mtxN['mtx2']\n",
    "print(mtx2)"
   ]
  },
  {
   "cell_type": "code",
   "execution_count": null,
   "id": "231c9b6a",
   "metadata": {},
   "outputs": [],
   "source": [
    "u,s,v = la.svd(mtx2, full_matrices=True, compute_uv=True, hermitian=False)"
   ]
  },
  {
   "cell_type": "code",
   "execution_count": null,
   "id": "b7cde6b0",
   "metadata": {},
   "outputs": [],
   "source": []
  },
  {
   "cell_type": "markdown",
   "id": "69367a61",
   "metadata": {},
   "source": [
    "Matrix 3"
   ]
  },
  {
   "cell_type": "code",
   "execution_count": null,
   "id": "853cefd1",
   "metadata": {},
   "outputs": [],
   "source": [
    "mtx3= mtxN['mtx3']\n",
    "print(mtx3)"
   ]
  },
  {
   "cell_type": "code",
   "execution_count": null,
   "id": "a896b151",
   "metadata": {},
   "outputs": [],
   "source": [
    "u,s,v = la.svd(mtx3, full_matrices=True, compute_uv=True, hermitian=False)"
   ]
  },
  {
   "cell_type": "markdown",
   "id": "d1a555a4",
   "metadata": {},
   "source": [
    "Matrix 4"
   ]
  },
  {
   "cell_type": "code",
   "execution_count": null,
   "id": "e6f2339c",
   "metadata": {},
   "outputs": [],
   "source": [
    "mtx4= mtxN['mtx4']\n",
    "print(mtx4)"
   ]
  },
  {
   "cell_type": "code",
   "execution_count": null,
   "id": "ac6bae09",
   "metadata": {},
   "outputs": [],
   "source": [
    "u,s,v = la.svd(mtx4, full_matrices=True, compute_uv=True, hermitian=False)"
   ]
  }
 ],
 "metadata": {
  "kernelspec": {
   "display_name": "Python 3.10.4 ('uv-vis')",
   "language": "python",
   "name": "python3"
  },
  "language_info": {
   "codemirror_mode": {
    "name": "ipython",
    "version": 3
   },
   "file_extension": ".py",
   "mimetype": "text/x-python",
   "name": "python",
   "nbconvert_exporter": "python",
   "pygments_lexer": "ipython3",
   "version": "3.10.4"
  },
  "vscode": {
   "interpreter": {
    "hash": "49b78fd53fc1d0e08442d0a61557d38150c9074f420fae7e8c8275835180b5fc"
   }
  }
 },
 "nbformat": 4,
 "nbformat_minor": 5
}
