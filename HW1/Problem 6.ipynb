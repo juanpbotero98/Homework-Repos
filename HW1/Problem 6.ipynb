{
 "cells": [
  {
   "cell_type": "code",
   "execution_count": 59,
   "id": "2ae74c22",
   "metadata": {},
   "outputs": [],
   "source": [
    "from scipy.io import loadmat\n",
    "import numpy as np\n",
    "import numpy.linalg as la\n",
    "import matplotlib.pyplot as plt\n",
    "\n",
    "mtxN = loadmat('mtxExamples.mat')\n"
   ]
  },
  {
   "cell_type": "markdown",
   "id": "3d25838d",
   "metadata": {},
   "source": [
    "Matrix 1"
   ]
  },
  {
   "cell_type": "code",
   "execution_count": 60,
   "id": "ed268e60",
   "metadata": {
    "scrolled": true
   },
   "outputs": [
    {
     "name": "stdout",
     "output_type": "stream",
     "text": [
      "[[ 6.14755957  0.02271354]\n",
      " [-2.1313486   8.21732199]\n",
      " [ 6.01301737  3.09142304]]\n"
     ]
    }
   ],
   "source": [
    "mtx1 = mtxN['mtx1']\n",
    "print(mtx1)"
   ]
  },
  {
   "cell_type": "code",
   "execution_count": 117,
   "id": "b660c016",
   "metadata": {},
   "outputs": [],
   "source": [
    "def search_spaces(M):\n",
    "    U, s, V = np.linalg.svd(M, full_matrices = True)\n",
    "    index_null = np.where(s==0)\n",
    "    null_basis = []\n",
    "\n",
    "    if len(index_null) != 0:\n",
    "        for i in index_null:\n",
    "            null_basis.append(V[:,i])\n",
    "            n_null = len(null_basis)\n",
    "        weights = np.random.randn(n_null)\n",
    "        rand_vector = np.array(null_basis)*weights\n",
    "        y = M*rand_vector[0:1,:]\n",
    "        if y.all() > 1e-10:\n",
    "            print('Null space is defined by {}'.format(null_basis))\n",
    "            print('Verified by random vector {}'.format(rand_vector))\n",
    "        else:\n",
    "            print('Only null space is from the zero vector')\n",
    "        \n",
    "    index_range = np.where(s != 0)\n",
    "    range_basis = []\n",
    "    \n",
    "    if index_range.isempty():\n",
    "        for i in index_range:\n",
    "            range_basis.append(U[:,i])\n",
    "            n_range = len(range_basis)\n",
    "        weights = np.random.randn(n_range)\n",
    "        rand_vector = np.array(range_basis)*weights\n",
    "        y = M*rand_vector[0:1,:]\n",
    "        x = y*la.inv(M)\n",
    "        \n",
    "    else:\n",
    "        print('Only null space is from the zero vector')"
   ]
  },
  {
   "cell_type": "code",
   "execution_count": 118,
   "id": "e960e27d",
   "metadata": {
    "scrolled": true
   },
   "outputs": [
    {
     "ename": "ValueError",
     "evalue": "operands could not be broadcast together with shapes (3,2) (1,2,0) ",
     "output_type": "error",
     "traceback": [
      "\u001b[1;31m---------------------------------------------------------------------------\u001b[0m",
      "\u001b[1;31mValueError\u001b[0m                                Traceback (most recent call last)",
      "Input \u001b[1;32mIn [118]\u001b[0m, in \u001b[0;36m<cell line: 1>\u001b[1;34m()\u001b[0m\n\u001b[1;32m----> 1\u001b[0m \u001b[43msearch_spaces\u001b[49m\u001b[43m(\u001b[49m\u001b[43mmtx1\u001b[49m\u001b[43m)\u001b[49m\n",
      "Input \u001b[1;32mIn [117]\u001b[0m, in \u001b[0;36msearch_spaces\u001b[1;34m(M)\u001b[0m\n\u001b[0;32m     10\u001b[0m weights \u001b[38;5;241m=\u001b[39m np\u001b[38;5;241m.\u001b[39mrandom\u001b[38;5;241m.\u001b[39mrandn(n_null)\n\u001b[0;32m     11\u001b[0m rand_vector \u001b[38;5;241m=\u001b[39m np\u001b[38;5;241m.\u001b[39marray(null_basis)\u001b[38;5;241m*\u001b[39mweights\n\u001b[1;32m---> 12\u001b[0m y \u001b[38;5;241m=\u001b[39m \u001b[43mM\u001b[49m\u001b[38;5;241;43m*\u001b[39;49m\u001b[43mrand_vector\u001b[49m\u001b[43m[\u001b[49m\u001b[38;5;241;43m0\u001b[39;49m\u001b[43m:\u001b[49m\u001b[38;5;241;43m1\u001b[39;49m\u001b[43m,\u001b[49m\u001b[43m:\u001b[49m\u001b[43m]\u001b[49m\n\u001b[0;32m     13\u001b[0m \u001b[38;5;28;01mif\u001b[39;00m y\u001b[38;5;241m.\u001b[39mall() \u001b[38;5;241m>\u001b[39m \u001b[38;5;241m1e-10\u001b[39m:\n\u001b[0;32m     14\u001b[0m     \u001b[38;5;28mprint\u001b[39m(\u001b[38;5;124m'\u001b[39m\u001b[38;5;124mNull space is defined by \u001b[39m\u001b[38;5;132;01m{}\u001b[39;00m\u001b[38;5;124m'\u001b[39m\u001b[38;5;241m.\u001b[39mformat(null_basis))\n",
      "\u001b[1;31mValueError\u001b[0m: operands could not be broadcast together with shapes (3,2) (1,2,0) "
     ]
    }
   ],
   "source": [
    "search_spaces(mtx1)"
   ]
  },
  {
   "cell_type": "code",
   "execution_count": 108,
   "id": "43950240",
   "metadata": {},
   "outputs": [
    {
     "ename": "NameError",
     "evalue": "name 'rand_vector' is not defined",
     "output_type": "error",
     "traceback": [
      "\u001b[1;31m---------------------------------------------------------------------------\u001b[0m",
      "\u001b[1;31mNameError\u001b[0m                                 Traceback (most recent call last)",
      "Input \u001b[1;32mIn [108]\u001b[0m, in \u001b[0;36m<cell line: 1>\u001b[1;34m()\u001b[0m\n\u001b[1;32m----> 1\u001b[0m \u001b[43mrand_vector\u001b[49m\n",
      "\u001b[1;31mNameError\u001b[0m: name 'rand_vector' is not defined"
     ]
    }
   ],
   "source": [
    "rand_vector"
   ]
  },
  {
   "cell_type": "code",
   "execution_count": 82,
   "id": "e5efa04b",
   "metadata": {
    "scrolled": true
   },
   "outputs": [
    {
     "data": {
      "text/plain": [
       "(2, 2)"
      ]
     },
     "execution_count": 82,
     "metadata": {},
     "output_type": "execute_result"
    }
   ],
   "source": [
    "np.shape(V)"
   ]
  },
  {
   "cell_type": "code",
   "execution_count": 101,
   "id": "08c483c5",
   "metadata": {},
   "outputs": [],
   "source": [
    "    U, s, V = np.linalg.svd(mtx1, full_matrices = True)\n",
    "    index_null = np.where(s==0)"
   ]
  },
  {
   "cell_type": "code",
   "execution_count": 102,
   "id": "a788aa4a",
   "metadata": {},
   "outputs": [
    {
     "data": {
      "text/plain": [
       "(array([], dtype=int64),)"
      ]
     },
     "execution_count": 102,
     "metadata": {},
     "output_type": "execute_result"
    }
   ],
   "source": [
    "index_null"
   ]
  },
  {
   "cell_type": "markdown",
   "id": "0ef4ceba",
   "metadata": {},
   "source": [
    "Matrix 2"
   ]
  },
  {
   "cell_type": "code",
   "execution_count": null,
   "id": "f67f8d56",
   "metadata": {},
   "outputs": [],
   "source": [
    "mtx2= mtxN['mtx2']\n",
    "print(mtx2)"
   ]
  },
  {
   "cell_type": "code",
   "execution_count": null,
   "id": "231c9b6a",
   "metadata": {},
   "outputs": [],
   "source": [
    "u,s,v = la.svd(mtx2, full_matrices=True, compute_uv=True, hermitian=False)"
   ]
  },
  {
   "cell_type": "code",
   "execution_count": null,
   "id": "b7cde6b0",
   "metadata": {},
   "outputs": [],
   "source": []
  },
  {
   "cell_type": "markdown",
   "id": "69367a61",
   "metadata": {},
   "source": [
    "Matrix 3"
   ]
  },
  {
   "cell_type": "code",
   "execution_count": null,
   "id": "853cefd1",
   "metadata": {},
   "outputs": [],
   "source": [
    "mtx3= mtxN['mtx3']\n",
    "print(mtx3)"
   ]
  },
  {
   "cell_type": "code",
   "execution_count": null,
   "id": "a896b151",
   "metadata": {},
   "outputs": [],
   "source": [
    "u,s,v = la.svd(mtx3, full_matrices=True, compute_uv=True, hermitian=False)"
   ]
  },
  {
   "cell_type": "markdown",
   "id": "d1a555a4",
   "metadata": {},
   "source": [
    "Matrix 4"
   ]
  },
  {
   "cell_type": "code",
   "execution_count": null,
   "id": "e6f2339c",
   "metadata": {},
   "outputs": [],
   "source": [
    "mtx4= mtxN['mtx4']\n",
    "print(mtx4)"
   ]
  },
  {
   "cell_type": "code",
   "execution_count": null,
   "id": "ac6bae09",
   "metadata": {},
   "outputs": [],
   "source": [
    "u,s,v = la.svd(mtx4, full_matrices=True, compute_uv=True, hermitian=False)"
   ]
  }
 ],
 "metadata": {
  "kernelspec": {
   "display_name": "Python 3 (ipykernel)",
   "language": "python",
   "name": "python3"
  },
  "language_info": {
   "codemirror_mode": {
    "name": "ipython",
    "version": 3
   },
   "file_extension": ".py",
   "mimetype": "text/x-python",
   "name": "python",
   "nbconvert_exporter": "python",
   "pygments_lexer": "ipython3",
   "version": "3.9.12"
  }
 },
 "nbformat": 4,
 "nbformat_minor": 5
}
