{
 "cells": [
  {
   "cell_type": "markdown",
   "id": "88c08783",
   "metadata": {},
   "source": [
    "## Problem 2 - Polynomial Regression"
   ]
  },
  {
   "cell_type": "markdown",
   "id": "8a675ece",
   "metadata": {},
   "source": [
    "Load the file 'regress1.mat' and plot Y as a function of X\n",
    "\n",
    "Find a least-squares fit fo the data with polynomicals of order 0, 1, 2, 3, 4, and 5. ON a seperate graph, plot the squared error as a function of the order of polynomial"
   ]
  },
  {
   "cell_type": "markdown",
   "id": "864f9f87",
   "metadata": {},
   "source": [
    "Polynomial regression follows the form of y = b0 + b1x + b2x**2 + b3x**3 ... bnx**n each additional term will match the data set even more closely allowing us to get a function that accurately represents our data\n",
    "\n",
    "However, one issue with this method is that at some polynomial order, we find that the regression no longer describes our data properly"
   ]
  },
  {
   "cell_type": "code",
   "execution_count": 187,
   "id": "1e228f04",
   "metadata": {},
   "outputs": [],
   "source": [
    "from scipy.io import loadmat\n",
    "import numpy as np\n",
    "import numpy.linalg as la\n",
    "import matplotlib.pyplot as plt\n"
   ]
  },
  {
   "cell_type": "code",
   "execution_count": 188,
   "id": "d1fcd64a",
   "metadata": {},
   "outputs": [],
   "source": [
    " def lin_reg(x,y):\n",
    "    \n",
    "    u,s,v = la.svd(x,full_matrices = True)\n",
    "    s = np.diag(s)\n",
    "    \n",
    "    Y_star = u.T@y\n",
    "    B_ss = np.array([Y_star[1:len(s)],[0]])\n",
    "    B_star = np.divide(B_ss[1:len(s)],s)\n",
    "    b = v.T@B_star\n",
    "    \n",
    "    return b"
   ]
  },
  {
   "cell_type": "code",
   "execution_count": 189,
   "id": "064b7ce9",
   "metadata": {},
   "outputs": [],
   "source": [
    "mat = loadmat('regress1.mat')\n"
   ]
  },
  {
   "cell_type": "code",
   "execution_count": 190,
   "id": "c879e2fe",
   "metadata": {},
   "outputs": [],
   "source": [
    "x = mat['x'] # extracts the indenepent variable data\n",
    "y = mat['y'] # extrasts the dependent variable data\n",
    "\n",
    "x_max = np.size(x) # "
   ]
  },
  {
   "cell_type": "markdown",
   "id": "b4f45b9d",
   "metadata": {},
   "source": [
    "Begin with plotting Y as a function of X to see what the data looks like"
   ]
  },
  {
   "cell_type": "code",
   "execution_count": 191,
   "id": "0bfaac2d",
   "metadata": {},
   "outputs": [
    {
     "data": {
      "text/plain": [
       "Text(0, 0.5, 'Dependent Variable (Arbitrary Units)')"
      ]
     },
     "execution_count": 191,
     "metadata": {},
     "output_type": "execute_result"
    },
    {
     "data": {
      "image/png": "[encoded data removed]",
      "text/plain": [
       "<Figure size 432x288 with 1 Axes>"
      ]
     },
     "metadata": {
      "needs_background": "light"
     },
     "output_type": "display_data"
    }
   ],
   "source": [
    "plt.plot(x,y,'o',markersize =8)\n",
    "plt.xlabel('Independent Variable (Arbitrary Units)')\n",
    "plt.ylabel('Dependent Variable (Arbitrary Units)')\n",
    "\n",
    "# The data appears to take on a roughly parabolic shape. This indicates that a x**3 or x**4 will be a great fit"
   ]
  },
  {
   "cell_type": "markdown",
   "id": "15af4d5c",
   "metadata": {},
   "source": [
    "Using the SVD, we can get various beta terms to weight the polynomial terms resulting in a \"best fit\"\n",
    "\n",
    "First, begin with creating a design matrix with terms up to x**5 (giving us a fifth order polynomial in the end)"
   ]
  },
  {
   "cell_type": "code",
   "execution_count": 192,
   "id": "ebbd7880",
   "metadata": {},
   "outputs": [],
   "source": [
    "x0 = np.ones([len(x),1])\n",
    "x1 = x\n",
    "x2 = x**2\n",
    "x3 = x**3\n",
    "x4 = x**4\n",
    "x5 = x**5\n",
    "\n",
    "design_matrix = np.concatenate((x5, x4, x3, x2, x1, x0), axis = 1)"
   ]
  },
  {
   "cell_type": "code",
   "execution_count": 193,
   "id": "3a332b2e",
   "metadata": {},
   "outputs": [
    {
     "data": {
      "text/plain": [
       "(38, 6)"
      ]
     },
     "execution_count": 193,
     "metadata": {},
     "output_type": "execute_result"
    }
   ],
   "source": [
    "np.shape(design_matrix)"
   ]
  },
  {
   "cell_type": "code",
   "execution_count": 194,
   "id": "32c5c916",
   "metadata": {
    "scrolled": false
   },
   "outputs": [],
   "source": [
    "u,s,v = la.svd(design_matrix)\n",
    "    \n",
    "Y_star = u.T@y\n",
    "\n",
    "B_ss = np.append(Y_star[0:len(s)],0)\n",
    "B_star = np.divide(B_ss[0:len(s)],s)\n",
    "beta = v@B_star"
   ]
  },
  {
   "cell_type": "code",
   "execution_count": 216,
   "id": "61da33bd",
   "metadata": {},
   "outputs": [
    {
     "data": {
      "text/plain": [
       "[<matplotlib.lines.Line2D at 0x1d8a278deb0>]"
      ]
     },
     "execution_count": 216,
     "metadata": {},
     "output_type": "execute_result"
    },
    {
     "data": {
      "image/png": "[encoded data removed]",
      "text/plain": [
       "<Figure size 432x288 with 1 Axes>"
      ]
     },
     "metadata": {
      "needs_background": "light"
     },
     "output_type": "display_data"
    }
   ],
   "source": [
    "xregressionLine = x\n",
    "y5 = beta[0]*xregressionLine**5 + beta[1]*xregressionLine**4 + beta[2]*xregressionLine**3 + beta[3]*xregressionLine**2 + beta[4]*xregressionLine + beta[5]\n",
    "\n",
    "plt.plot(x,y,'o')\n",
    "plt.plot(x,beta[5] + beta[4]*x + beta[3]*x**2)"
   ]
  },
  {
   "cell_type": "code",
   "execution_count": 185,
   "id": "3800fef6",
   "metadata": {},
   "outputs": [
    {
     "data": {
      "text/plain": [
       "array([ 0.18965268, -0.82568121, -0.86550045, -0.92829068, -0.74241702,\n",
       "        0.83667038])"
      ]
     },
     "execution_count": 185,
     "metadata": {},
     "output_type": "execute_result"
    }
   ],
   "source": [
    "beta"
   ]
  },
  {
   "cell_type": "code",
   "execution_count": null,
   "id": "d078c3c7",
   "metadata": {},
   "outputs": [],
   "source": []
  }
 ],
 "metadata": {
  "kernelspec": {
   "display_name": "Python 3 (ipykernel)",
   "language": "python",
   "name": "python3"
  },
  "language_info": {
   "codemirror_mode": {
    "name": "ipython",
    "version": 3
   },
   "file_extension": ".py",
   "mimetype": "text/x-python",
   "name": "python",
   "nbconvert_exporter": "python",
   "pygments_lexer": "ipython3",
   "version": "3.9.12"
  }
 },
 "nbformat": 4,
 "nbformat_minor": 5
}
