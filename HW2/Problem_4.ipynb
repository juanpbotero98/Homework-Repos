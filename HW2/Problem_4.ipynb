{
 "cells": [
  {
   "cell_type": "markdown",
   "metadata": {},
   "source": [
    "## Problem 4 - Dimensionality reduction with PCA"
   ]
  },
  {
   "cell_type": "markdown",
   "metadata": {},
   "source": [
    "* Professors Hugh Bell and Wee Zell were recording extracellular action potentials.\n",
    "* Recorded traces likely arose from multiple cells, with each cell producing a characteristic waveform.\n",
    "* windowedSpikes.mat containing a 400x150 matrix, data, whose rows contain the electrode measurements (voltages recorded for each 150 msec window, at 1msec intervals). Your task is to determine how many neurons produced these 400 spikes."
   ]
  },
  {
   "cell_type": "code",
   "execution_count": null,
   "metadata": {},
   "outputs": [],
   "source": [
    "import trichromacy as tri\n",
    "import numpy as np\n",
    "import numpy.linalg as la\n",
    "import matplotlib.pyplot as plt\n",
    "from scipy.io import loadmat\n",
    "from sklearn.decomposition import PCA\n",
    "from mpl_toolkits.mplot3d import Axes3D\n",
    "#Load given data\n",
    "Spike_data= loadmat('windowedSpikes.mat')\n",
    "np.shape(Spike_data)"
   ]
  },
  {
   "cell_type": "code",
   "execution_count": null,
   "metadata": {},
   "outputs": [],
   "source": [
    "# a) Plot spikes\n",
    "spikes = Spike_data['data']\n",
    "figure,ax= plt.subplots()\n",
    "\n",
    "for i in range(len(spikes)):\n",
    "    ax.plot(spikes[i,:])\n",
    "    ax.set_xlabel(xlabel='time (ms)')\n",
    "    ax.set_ylabel(ylabel='voltage (mV)')\n",
    "    ax.set_title('Spike Data')\n"
   ]
  },
  {
   "cell_type": "code",
   "execution_count": null,
   "metadata": {},
   "outputs": [],
   "source": [
    "# b) \n",
    "pca = PCA()\n",
    "pca.fit(spikes)\n",
    "# print(pca.singular_values_)\n",
    "figure,ax=plt.subplots()\n",
    "ax.plot(pca.singular_values_**2)\n",
    "ax.set_yscale('log')\n",
    "plt.show()"
   ]
  },
  {
   "cell_type": "markdown",
   "metadata": {},
   "source": [
    "Mayority of spikes are happening over the scale of a few milliseconds"
   ]
  },
  {
   "cell_type": "code",
   "execution_count": null,
   "metadata": {},
   "outputs": [],
   "source": [
    "#c) Project spike waveforms onto the top of the two principal components of the data set\n",
    "Projected_Spikes_2D = PCA(n_components=2).fit_transform(spikes)\n",
    "\n",
    "fig,ax = plt.subplots()\n",
    "ax.scatter(Projected_Spikes_2D[:, 0],Projected_Spikes_2D[:, 1],cmap=plt.cm.Set1, edgecolor=\"k\",s=40,)\n",
    "\n",
    "ax.set_title(\"First two PCA directions\")\n",
    "ax.set_xlabel(\"1st eigenvector\")\n",
    "ax.set_ylabel(\"2nd eigenvector\")\n",
    "plt.show()\n",
    "\n",
    "\n",
    "#d) Project spike waveforms onto the top of the three principal components of the data set\n",
    "Projected_Spikes_3D = PCA(n_components=3).fit_transform(spikes)\n",
    "fig = plt.figure(1, figsize=(8, 6))\n",
    "ax = fig.add_subplot(111, projection=\"3d\", elev=-150, azim=110)\n",
    "ax.scatter(\n",
    "    Projected_Spikes_3D[:, 0],\n",
    "    Projected_Spikes_3D[:, 1],\n",
    "    Projected_Spikes_3D[:, 2],\n",
    "    cmap=plt.cm.Set1,\n",
    "    edgecolor=\"k\",\n",
    "    s=40,\n",
    ")\n",
    "\n",
    "ax.set_title(\"First three PCA directions\")\n",
    "ax.set_xlabel(\"1st eigenvector\")\n",
    "ax.w_xaxis.set_ticklabels([])\n",
    "ax.set_ylabel(\"2nd eigenvector\")\n",
    "ax.w_yaxis.set_ticklabels([])\n",
    "ax.set_zlabel(\"3rd eigenvector\")\n",
    "ax.w_zaxis.set_ticklabels([])\n",
    "\n",
    "plt.show()"
   ]
  },
  {
   "cell_type": "markdown",
   "metadata": {},
   "source": [
    "To visualize the 3D plot in an interactive manner download Axes3D, using the following command:   \n",
    "        ```\n",
    "            pip3 install ipympl    \n",
    "        ```"
   ]
  },
  {
   "cell_type": "code",
   "execution_count": null,
   "metadata": {},
   "outputs": [],
   "source": [
    "%matplotlib widget\n",
    "fig = plt.figure()\n",
    "ax = Axes3D(fig)\n",
    "  \n",
    "# creating the plot\n",
    "ax.scatter(\n",
    "    Projected_Spikes_3D[:, 0],\n",
    "    Projected_Spikes_3D[:, 1],\n",
    "    Projected_Spikes_3D[:, 2],\n",
    "    cmap=plt.cm.Set1,\n",
    "    edgecolor=\"k\",\n",
    "    s=40,\n",
    ")\n",
    "  \n",
    "# setting title and labels\n",
    "ax.set_title(\"First two PCA directions\")\n",
    "ax.set_xlabel(\"1st eigenvector\")\n",
    "ax.set_ylabel(\"2nd eigenvector\")\n",
    "ax.set_zlabel(\"3rd eigenvector\")\n",
    "  \n",
    "# displaying the plot\n",
    "plt.show()"
   ]
  }
 ],
 "metadata": {
  "kernelspec": {
   "display_name": "Python 3.10.4 ('uv-vis')",
   "language": "python",
   "name": "python3"
  },
  "language_info": {
   "codemirror_mode": {
    "name": "ipython",
    "version": 3
   },
   "file_extension": ".py",
   "mimetype": "text/x-python",
   "name": "python",
   "nbconvert_exporter": "python",
   "pygments_lexer": "ipython3",
   "version": "3.10.4"
  },
  "orig_nbformat": 4,
  "vscode": {
   "interpreter": {
    "hash": "49b78fd53fc1d0e08442d0a61557d38150c9074f420fae7e8c8275835180b5fc"
   }
  }
 },
 "nbformat": 4,
 "nbformat_minor": 2
}
