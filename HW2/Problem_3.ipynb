{
 "cells": [
  {
   "cell_type": "markdown",
   "id": "ffc3a574",
   "metadata": {},
   "source": [
    "# Problem 3 - Constrained Least Squares Optimization"
   ]
  },
  {
   "cell_type": "markdown",
   "id": "7d3161d2",
   "metadata": {},
   "source": [
    "Load the file constrainedLS.mat into MAT-\n",
    "LAB. This contains an N ×2 data matrix, data, whose columns correspond to horizontal\n",
    "and vertical coordinates of a set of 2D data points, dn. It also contains a 2-vector w. Consider\n",
    "a constrained optimization problem:\n",
    "$$ min_v∑n(v^T dn)^2, s.t. v^T w = 1.$$\n",
    "Thus, the constraint on v is that it must lie on a line, perpendicular to ~w, whose perpendicular\n",
    "distance from the origin is 1/||w||."
   ]
  },
  {
   "cell_type": "markdown",
   "id": "58cfa87f",
   "metadata": {},
   "source": [
    "### 3.a)"
   ]
  },
  {
   "cell_type": "markdown",
   "id": "72fae544",
   "metadata": {},
   "source": [
    "Rewrite the optimization problem in matrix form. Then rewrite the problem in terms\n",
    "of a new optimization variable,  ̃v (a linear transformation of ~v), such that the quantity\n",
    "to be minimized is now || ̃v||2. Note: you must also rewrite the constraint in terms of  ̃v."
   ]
  },
  {
   "cell_type": "markdown",
   "id": "b9206146",
   "metadata": {},
   "source": [
    "First, we need to write the problem in matrix terms, with matrix D.\n",
    "$$ ||Dv||^2 $$ is the same as $$\\Sigma (v^Tdn)^2 $$ \n",
    "By the definition of the norm.\n",
    "$$ ||Dv||^2 = ||USV^Tv||^2 = ||USv^*||^2 = ||Uv^{**}||^2 $$\n",
    "Since U is just a rotational matrix, it doesnt' change the length of vector and can be dropped to \n",
    "$$min||v^{**}||^2$$\n",
    "By the constraint that $$ v\\cdot w = 1 $$, we can do a substitution:\n",
    "$$ v^{**} = (SV^Tv) \\rightarrow (VS^{-1}v^{**})\\cdot w = (VS^{-1}v^{**})^Tw = v^{**T}S^{-1T}V^Tw = v^{**T}(S^{-1T}V^Tw) = 1 $$\n",
    "Let $$(S^{-1T}V^Tw) = \\tilde{w} $$ Therefore, $$ v^{**}\\cdot \\tilde{w} = 1 $$\n"
   ]
  },
  {
   "cell_type": "markdown",
   "id": "3e40ce5b",
   "metadata": {},
   "source": [
    "### 3.b)"
   ]
  },
  {
   "cell_type": "markdown",
   "id": "00ed67e1",
   "metadata": {},
   "source": [
    "Since the component of $v^{**}$ that is in line with $\\hat{w}$ must always be of length $\\frac{1}{||\\tilde{w}||}$ , then the smallest $v^{**}$ will be parallel to $\\tilde{w}$. Therefore, the smallest $v^{**}$ vector has a length of $\\frac{1}{||\\tilde{w}||}$ and a direction of $\\frac{\\tilde{w}}{||\\tilde{w}||}$\n"
   ]
  },
  {
   "cell_type": "code",
   "execution_count": 1,
   "id": "2f4e3e98",
   "metadata": {},
   "outputs": [
    {
     "data": {
      "text/plain": [
       "'C:\\\\Users\\\\dispe\\\\OneDrive\\\\Documents\\\\GitHub\\\\NDA'"
      ]
     },
     "execution_count": 1,
     "metadata": {},
     "output_type": "execute_result"
    }
   ],
   "source": [
    "import os\n",
    "os.getcwd()"
   ]
  },
  {
   "cell_type": "code",
   "execution_count": 269,
   "id": "36d28c8f",
   "metadata": {},
   "outputs": [
    {
     "data": {
      "text/plain": [
       "array([[ 6.123234e-17, -1.000000e+00],\n",
       "       [ 1.000000e+00,  6.123234e-17]])"
      ]
     },
     "execution_count": 269,
     "metadata": {},
     "output_type": "execute_result"
    }
   ],
   "source": [
    "theta = np.pi/2\n",
    "rotM90 = np.array([[np.cos(theta), -np.sin(theta)],[np.sin(theta), np.cos(theta)]])\n",
    "rotM90"
   ]
  },
  {
   "cell_type": "code",
   "execution_count": 337,
   "id": "eb598112",
   "metadata": {},
   "outputs": [],
   "source": [
    "import numpy as np\n",
    "import numpy.linalg as la\n",
    "import scipy.io as sio\n",
    "from os.path import dirname, join as pjoin\n",
    "import matplotlib.pyplot as plt\n",
    "\n",
    "data_dir = pjoin(os.getcwd(), 'HW2 files','HW2 files')\n",
    "mat_fname = pjoin(data_dir, 'constrainedLS.mat')\n",
    "mat_contents= sio.loadmat(mat_fname)\n",
    "w = mat_contents['w']\n",
    "data = mat_contents['data']\n",
    "\n",
    "U, D, VT = la.svd(data)\n",
    "S = np.diag(D)\n",
    "wtilde = (la.inv(S).T@VT@w)\n",
    "wscaler = 1/la.norm(wtilde)\n",
    "wUnit = wtilde/la.norm(wtilde)\n",
    "vss = wscaler * wUnit\n",
    "# constraintLiness = np.array([-wtilde[1],wtilde[0]])+vss\n",
    "constraintLiness = rotM90@wtilde+vss\n",
    "\n",
    "Dss = data@S@VT"
   ]
  },
  {
   "cell_type": "code",
   "execution_count": 338,
   "id": "d69f8f32",
   "metadata": {},
   "outputs": [],
   "source": [
    "x = np.array([vss[0,0],constraintLiness[0,0]])\n",
    "y = np.array([vss[1,0],constraintLiness[1,0]])\n",
    "m, b = np.polyfit(x,y,1)"
   ]
  },
  {
   "cell_type": "code",
   "execution_count": 339,
   "id": "0e371acd",
   "metadata": {},
   "outputs": [],
   "source": [
    "x1 = -30\n",
    "x2 = 30\n",
    "y1 = m*(x1) + b\n",
    "y2 = m*(x2) + b"
   ]
  },
  {
   "cell_type": "code",
   "execution_count": 340,
   "id": "c27fd31a",
   "metadata": {},
   "outputs": [],
   "source": [
    "bestFitVec = rotM90@vss\n",
    "x = np.array([0,bestFitVec[0,0]])\n",
    "y = np.array([0,bestFitVec[1,0]])\n",
    "m, b = np.polyfit(x,y,1)\n",
    "x1 = -30\n",
    "x2 = 30\n",
    "y1BF = m*(x1) + b\n",
    "y2BF = m*(x2) + b"
   ]
  },
  {
   "cell_type": "code",
   "execution_count": 341,
   "id": "a3cc31a2",
   "metadata": {
    "scrolled": true
   },
   "outputs": [
    {
     "data": {
      "text/plain": [
       "(-30.0, 30.0)"
      ]
     },
     "execution_count": 341,
     "metadata": {},
     "output_type": "execute_result"
    },
    {
     "data": {
      "image/png": "[encoded data removed]",
      "text/plain": [
       "<Figure size 432x288 with 1 Axes>"
      ]
     },
     "metadata": {
      "needs_background": "light"
     },
     "output_type": "display_data"
    }
   ],
   "source": [
    "ax = plt.axes()\n",
    "ax.set_aspect('equal', adjustable='box')\n",
    "plt.scatter(Dss[:,0], Dss[:,1])\n",
    "ax.arrow(0, 0, vss[0,0], vss[1,0], head_width=1, head_length=1)\n",
    "plt.plot([x1,x2],[y1,y2])\n",
    "plt.plot([x1,x2],[y1BF,y2BF])\n",
    "plt.xlim(-30,30)\n",
    "plt.ylim(-30,30)"
   ]
  },
  {
   "cell_type": "markdown",
   "id": "44127aa6",
   "metadata": {},
   "source": [
    "### 3.c)"
   ]
  },
  {
   "cell_type": "markdown",
   "id": "2bbade4e",
   "metadata": {},
   "source": [
    "As explained above, $$ v^{**} = (SV^Tv) \\rightarrow v = (VS^{-1}v^{**})$$"
   ]
  },
  {
   "cell_type": "code",
   "execution_count": 343,
   "id": "f7b53129",
   "metadata": {
    "scrolled": true
   },
   "outputs": [
    {
     "data": {
      "text/plain": [
       "(-5.0, 5.0)"
      ]
     },
     "execution_count": 343,
     "metadata": {},
     "output_type": "execute_result"
    },
    {
     "data": {
      "image/png": "[encoded data removed]",
      "text/plain": [
       "<Figure size 432x288 with 1 Axes>"
      ]
     },
     "metadata": {
      "needs_background": "light"
     },
     "output_type": "display_data"
    }
   ],
   "source": [
    "v = VT.T@la.inv(S)@vss\n",
    "bestFitVec = rotM90@v\n",
    "x = np.array([0,bestFitVec[0,0]])\n",
    "y = np.array([0,bestFitVec[1,0]])\n",
    "m, b = np.polyfit(x,y,1)\n",
    "x1 = -20\n",
    "x2 = 20\n",
    "y1BF = m*(x1) + b\n",
    "y2BF = m*(x2) + b\n",
    "\n",
    "constraintLine = rotM90@w + v\n",
    "x = np.array([v[0,0],constraintLine[0,0]])\n",
    "y = np.array([v[1,0],constraintLine[1,0]])\n",
    "m, b = np.polyfit(x,y,1)\n",
    "x1 = -20\n",
    "x2 = 20\n",
    "y1 = m*(x1) + b\n",
    "y2 = m*(x2) + b\n",
    "\n",
    "ax = plt.axes()\n",
    "plt.scatter(data[:,0], data[:,1])\n",
    "ax.set_aspect('equal', adjustable='box')\n",
    "ax.arrow(0, 0, v[0,0], v[1,0], head_width=0.2, head_length=0.2, color='orange')\n",
    "plt.plot([x1,x2],[y1,y2])\n",
    "plt.plot([x1,x2],[y1BF,y2BF])\n",
    "plt.xlim(-5,5)\n",
    "plt.ylim(-5,5)"
   ]
  },
  {
   "cell_type": "markdown",
   "id": "d698d3aa",
   "metadata": {},
   "source": [
    "Just like with the constrained TLS problem above, the matrix decomposition follows the same pattern:\n",
    "$$ ||Du||^2 = ||USV^Tu||^2 = ||USu^*||^2 = ||Uu^{**}||^2 = ||u^{**}||^2$$\n",
    "The constraint is simply that u is a unit vector: $$||u||^2 = 1 \\rightarrow ||V^Tu||^2 = ||u^*||^2 = 1$$\n",
    "since $V^T$ is just a rotation matrix while $S$ is a stretch matrix, $u^*$ has the same norm as $u$, while $u^{**}$ does not have the same norm. Thus it is easier to solve the problem in $u^*$ space."
   ]
  },
  {
   "cell_type": "code",
   "execution_count": 350,
   "id": "ca66def4",
   "metadata": {},
   "outputs": [
    {
     "data": {
      "text/plain": [
       "(-5.0, 5.0)"
      ]
     },
     "execution_count": 350,
     "metadata": {},
     "output_type": "execute_result"
    },
    {
     "data": {
      "image/png": "[encoded data removed]",
      "text/plain": [
       "<Figure size 432x288 with 1 Axes>"
      ]
     },
     "metadata": {
      "needs_background": "light"
     },
     "output_type": "display_data"
    }
   ],
   "source": [
    "us = np.array([0,1])\n",
    "u = VT.T@us\n",
    "TLSVec = rotM90@u\n",
    "x = np.array([0,TLSVec[0]])\n",
    "y = np.array([0,TLSVec[1]])\n",
    "m, b = np.polyfit(x,y,1)\n",
    "x1 = -20\n",
    "x2 = 20\n",
    "y1TLS = m*(x1) + b\n",
    "y2TLS = m*(x2) + b\n",
    "# datas = data@VT\n",
    "\n",
    "ax = plt.axes()\n",
    "ax.set_aspect('equal', adjustable='box')\n",
    "plt.scatter(data[:,0], data[:,1])\n",
    "plt.scatter\n",
    "ax.arrow(0, 0, v[0,0], v[1,0], head_width=0.2, head_length=0.2, color='red')\n",
    "ax.arrow(0, 0, u[0], u[1], head_width=0.2, head_length=0.2, color='limegreen')\n",
    "plt.plot([x1,x2],[y1,y2])\n",
    "plt.plot([x1,x2],[y1BF,y2BF], color='red')\n",
    "plt.plot([x1,x2],[y1TLS,y2TLS], color='limegreen')\n",
    "plt.xlim(-5,5)\n",
    "plt.ylim(-5,5)"
   ]
  },
  {
   "cell_type": "markdown",
   "id": "a2662045",
   "metadata": {},
   "source": [
    "The optimal $\\vec{v}$ is not perpendicular to the constraint line in the original space. Additionally, the unconstrained TLS solution (green line) is slightly different from constrained TLS solution (red line). "
   ]
  }
 ],
 "metadata": {
  "kernelspec": {
   "display_name": "Python 3.10.4 ('uv-vis')",
   "language": "python",
   "name": "python3"
  },
  "language_info": {
   "codemirror_mode": {
    "name": "ipython",
    "version": 3
   },
   "file_extension": ".py",
   "mimetype": "text/x-python",
   "name": "python",
   "nbconvert_exporter": "python",
   "pygments_lexer": "ipython3",
   "version": "3.10.4"
  },
  "vscode": {
   "interpreter": {
    "hash": "49b78fd53fc1d0e08442d0a61557d38150c9074f420fae7e8c8275835180b5fc"
   }
  }
 },
 "nbformat": 4,
 "nbformat_minor": 5
}
