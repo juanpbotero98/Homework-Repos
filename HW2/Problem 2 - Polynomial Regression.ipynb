{
 "cells": [
  {
   "cell_type": "markdown",
   "id": "c821a721",
   "metadata": {},
   "source": [
    "## Problem 2 - Polynomial Regression"
   ]
  },
  {
   "cell_type": "markdown",
   "id": "7488ce8c",
   "metadata": {},
   "source": [
    "Load the file regress1.mat and plot Y as a function of X"
   ]
  },
  {
   "cell_type": "markdown",
   "id": "de2f17dc",
   "metadata": {},
   "source": [
    "Find a least-squares fit of the data with polynomials of order 0, 1, 2, 3, 4, and 5. On a seperate graph, plot the squared error as a function of the order of polynomial"
   ]
  },
  {
   "cell_type": "code",
   "execution_count": 209,
   "id": "70b71121",
   "metadata": {},
   "outputs": [],
   "source": [
    "from scipy.io import loadmat\n",
    "import numpy as np\n",
    "import numpy.linalg as la\n",
    "import matplotlib.pyplot as plt"
   ]
  },
  {
   "cell_type": "code",
   "execution_count": 210,
   "id": "d5eeba36",
   "metadata": {},
   "outputs": [],
   "source": [
    "mat = loadmat('regress1.mat')"
   ]
  },
  {
   "cell_type": "code",
   "execution_count": 211,
   "id": "a3a39bbe",
   "metadata": {},
   "outputs": [],
   "source": [
    "x = mat['x'] # Extracts the independent variable data\n",
    "y = mat['y'] # Extracts the dependent variable data\n",
    "\n",
    "x_value_max = np.size(x)"
   ]
  },
  {
   "cell_type": "code",
   "execution_count": null,
   "id": "aed58097",
   "metadata": {},
   "outputs": [],
   "source": []
  },
  {
   "cell_type": "code",
   "execution_count": 212,
   "id": "e6c5e877",
   "metadata": {
    "scrolled": false
   },
   "outputs": [
    {
     "data": {
      "text/plain": [
       "Text(0, 0.5, 'Dependent Variable (Arbitrary Units)')"
      ]
     },
     "execution_count": 212,
     "metadata": {},
     "output_type": "execute_result"
    },
    {
     "data": {
      "image/png": "[encoded data removed]",
      "text/plain": [
       "<Figure size 432x288 with 1 Axes>"
      ]
     },
     "metadata": {
      "needs_background": "light"
     },
     "output_type": "display_data"
    }
   ],
   "source": [
    "plt.plot(x,y,'o',markersize=8) # Start by plotting x as a function of y to see the shape of the data\n",
    "plt.xlabel('Independent Variable (Arbitrary Units)')\n",
    "plt.ylabel('Dependent Variable (Arbitrary Units)')"
   ]
  },
  {
   "cell_type": "code",
   "execution_count": null,
   "id": "c57190e3",
   "metadata": {},
   "outputs": [],
   "source": [
    "numpy.poly1d(numpy.polyfit(x, y, 3))"
   ]
  },
  {
   "cell_type": "code",
   "execution_count": 169,
   "id": "ad594c72",
   "metadata": {},
   "outputs": [],
   "source": [
    "x = x\n",
    "x2 = x**2\n",
    "x3 = x**3\n",
    "x4 = x**4\n",
    "x5 = x**5"
   ]
  },
  {
   "cell_type": "code",
   "execution_count": 198,
   "id": "35721004",
   "metadata": {
    "scrolled": true
   },
   "outputs": [],
   "source": [
    "beta0 = la.inv(x.T@x)@x.T@y\n",
    "beta1 = la.inv(x.T@x)@x.T@y\n",
    "beta2 = la.inv(x2.T@x2)@x2.T@y\n",
    "beta3 = la.inv(x3.T@x3)@x3.T@y\n",
    "beta4 = la.inv(x4.T@x4)@x4.T@y\n",
    "beta5 = la.inv(x5.T@x5)@x5.T@y"
   ]
  },
  {
   "cell_type": "code",
   "execution_count": 199,
   "id": "aa58755e",
   "metadata": {},
   "outputs": [
    {
     "data": {
      "text/plain": [
       "array([[0.0881849]])"
      ]
     },
     "execution_count": 199,
     "metadata": {},
     "output_type": "execute_result"
    }
   ],
   "source": [
    "beta4"
   ]
  },
  {
   "cell_type": "code",
   "execution_count": 207,
   "id": "75f4b8ab",
   "metadata": {},
   "outputs": [],
   "source": [
    "yreg0 = beta0*x.T\n",
    "yreg1 = beta0 + beta1*x.T\n",
    "yreg2 = beta0 + beta1*x.T + beta2*x2.T\n",
    "yreg3 = beta0 + beta1*x.T + beta2*x2.T + beta3*x3.T\n",
    "yreg4 = beta0 + beta1*x.T + beta2*x2.T + beta3*x3.T + beta4*x4.T\n",
    "yreg5 = beta0 + beta1*x.T + beta2*x2.T + beta3*x3.T + beta4*x4.T + beta5*x5.T\n"
   ]
  },
  {
   "cell_type": "code",
   "execution_count": 208,
   "id": "305a9c86",
   "metadata": {},
   "outputs": [
    {
     "data": {
      "text/plain": [
       "[<matplotlib.lines.Line2D at 0x188cac01e50>,\n",
       " <matplotlib.lines.Line2D at 0x188cac01f10>,\n",
       " <matplotlib.lines.Line2D at 0x188cac01fd0>,\n",
       " <matplotlib.lines.Line2D at 0x188cac0d250>,\n",
       " <matplotlib.lines.Line2D at 0x188cac0d130>,\n",
       " <matplotlib.lines.Line2D at 0x188cac0d280>,\n",
       " <matplotlib.lines.Line2D at 0x188cac0d490>]"
      ]
     },
     "execution_count": 208,
     "metadata": {},
     "output_type": "execute_result"
    },
    {
     "data": {
      "image/png": "[encoded data removed]",
      "text/plain": [
       "<Figure size 432x288 with 1 Axes>"
      ]
     },
     "metadata": {
      "needs_background": "light"
     },
     "output_type": "display_data"
    }
   ],
   "source": [
    "plt.plot(x,y,'bo',x,yreg0.T,x,yreg1.T,x,yreg2.T,x,yreg3.T,x,yreg4.T,x,yreg5.T)"
   ]
  },
  {
   "cell_type": "code",
   "execution_count": 213,
   "id": "65275586",
   "metadata": {},
   "outputs": [],
   "source": [
    "def lin_reg(x,y):\n",
    "    \n",
    "    u,s,v = la.svd(x,full_matrices = True)\n",
    "    s = np.diag(s)\n",
    "    \n",
    "    Y_star = u@y\n",
    "    B_ss = np.array([[Y_star[1:len(s)]],[0]])\n",
    "    B_star = np.divide(B_ss[1:len(s)],s)\n",
    "    b = v@B_star\n",
    "    \n",
    "    return b"
   ]
  },
  {
   "cell_type": "code",
   "execution_count": 123,
   "id": "5fd4e566",
   "metadata": {},
   "outputs": [],
   "source": []
  },
  {
   "cell_type": "code",
   "execution_count": null,
   "id": "d9088d28",
   "metadata": {},
   "outputs": [],
   "source": []
  },
  {
   "cell_type": "code",
   "execution_count": null,
   "id": "934c464c",
   "metadata": {},
   "outputs": [],
   "source": []
  },
  {
   "cell_type": "code",
   "execution_count": null,
   "id": "1ac39fc5",
   "metadata": {},
   "outputs": [],
   "source": []
  },
  {
   "cell_type": "code",
   "execution_count": null,
   "id": "4c612a6b",
   "metadata": {},
   "outputs": [],
   "source": [
    "\n"
   ]
  }
 ],
 "metadata": {
  "kernelspec": {
   "display_name": "Python 3 (ipykernel)",
   "language": "python",
   "name": "python3"
  },
  "language_info": {
   "codemirror_mode": {
    "name": "ipython",
    "version": 3
   },
   "file_extension": ".py",
   "mimetype": "text/x-python",
   "name": "python",
   "nbconvert_exporter": "python",
   "pygments_lexer": "ipython3",
   "version": "3.9.12"
  }
 },
 "nbformat": 4,
 "nbformat_minor": 5
}
