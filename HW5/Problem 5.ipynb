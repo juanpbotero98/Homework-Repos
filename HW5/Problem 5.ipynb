{
 "cells": [
  {
   "cell_type": "markdown",
   "id": "7d1705fc",
   "metadata": {},
   "source": [
    "# Problem 5"
   ]
  },
  {
   "cell_type": "markdown",
   "id": "912c25bf",
   "metadata": {},
   "source": [
    "Consider an experiment where a moving-dot visual stimulus\n",
    "is presented to a subject. The difficulty of detecting the motion is varied by changing the\n",
    "coherence of the moving dots, which is the fraction of dots moving to the right (at zero\n",
    "coherence, the dots move randomly, and at 100% coherence, all of the dots move to the\n",
    "right). Suppose we want to decide whether the stimulus is random or is moving to the right,\n",
    "based on the response of a single neuron that fires at a random rate, whose mean is 5 spikes/s\n",
    "in response to a 0% coherence noisy stimulus and 8 spikes/s for 10% coherence. Suppose also\n",
    "that the distribution of firing rates is Gaussian with a standard deviation of 1 spikes/s for\n",
    "both stimuli.\n"
   ]
  },
  {
   "cell_type": "markdown",
   "id": "3ef1b59a",
   "metadata": {},
   "source": [
    "### Part A"
   ]
  },
  {
   "cell_type": "markdown",
   "id": "c86aad5a",
   "metadata": {},
   "source": [
    "For the “no coherence”’ stimulus, generate 1000 trials of the firing rate of the neuron in\n",
    "response to these stimuli (i.e., draw 1000 random samples from a Gaussian with µ = 5\n",
    "and σ = 1). Since we cannot have negative firing rates, set all rates that are below zero\n",
    "to zero. Now do the same thing for the 10% coherence stimulus. On the same figure,\n",
    "plot the histograms of the firing rates for each stimulus type."
   ]
  },
  {
   "cell_type": "code",
   "execution_count": 3,
   "id": "77709880",
   "metadata": {},
   "outputs": [],
   "source": [
    "import numpy as np\n",
    "import numpy.linalg as la\n",
    "import matplotlib.pyplot as plt\n",
    "from scipy.stats import norm"
   ]
  },
  {
   "cell_type": "code",
   "execution_count": 4,
   "id": "47f16096",
   "metadata": {},
   "outputs": [],
   "source": [
    "mu1 = 5\n",
    "mu2 = 8\n",
    "sd = 1\n",
    "dist1 = np.random.normal(mu1,sd,1000)\n",
    "dist2 = np.random.normal(mu2,sd,1000)"
   ]
  },
  {
   "cell_type": "code",
   "execution_count": 11,
   "id": "9ac30c90",
   "metadata": {
    "scrolled": true
   },
   "outputs": [
    {
     "data": {
      "text/plain": [
       "(array([  1.,  15.,  37., 134., 199., 253., 191., 113.,  46.,  11.]),\n",
       " array([ 4.6769554 ,  5.28464377,  5.89233215,  6.50002052,  7.10770889,\n",
       "         7.71539727,  8.32308564,  8.93077401,  9.53846238, 10.14615076,\n",
       "        10.75383913]),\n",
       " <BarContainer object of 10 artists>)"
      ]
     },
     "execution_count": 11,
     "metadata": {},
     "output_type": "execute_result"
    },
    {
     "data": {
      "image/png": "[encoded data removed]",
      "text/plain": [
       "<Figure size 432x288 with 1 Axes>"
      ]
     },
     "metadata": {
      "needs_background": "light"
     },
     "output_type": "display_data"
    }
   ],
   "source": [
    "plt.hist(dist1)\n",
    "plt.hist(dist2)\n",
    "plt.title('Histogram of Firing Rate')\n",
    "plt.xlabel('Firing Rate (spike/sec)')\n",
    "plt.ylabel('Count')"
   ]
  },
  {
   "cell_type": "markdown",
   "id": "b5f26b84",
   "metadata": {},
   "source": [
    "### Part B"
   ]
  },
  {
   "cell_type": "markdown",
   "id": "21743540",
   "metadata": {},
   "source": [
    "The success of the decoder (assuming this model of Gaussian noise) is determined by two\n",
    "things, the separation of the mean firing rates and the standard deviation of the neuron.\n",
    "From class, we know that this is captured in the measure known as d'. Calculate d' for\n",
    "this task and pair of stimuli (ignoring the fact that you are clipping firing rates at zero)."
   ]
  },
  {
   "cell_type": "markdown",
   "id": "5ed65694",
   "metadata": {},
   "source": [
    "d' can be calculated through separation/width"
   ]
  },
  {
   "cell_type": "code",
   "execution_count": 16,
   "id": "a9306180",
   "metadata": {},
   "outputs": [],
   "source": [
    "d_P = mu2-mu1/(np.var(dist2)-np.var(dist1))"
   ]
  },
  {
   "cell_type": "code",
   "execution_count": 17,
   "id": "95e2f8fb",
   "metadata": {},
   "outputs": [
    {
     "data": {
      "text/plain": [
       "66.97042892646914"
      ]
     },
     "execution_count": 17,
     "metadata": {},
     "output_type": "execute_result"
    }
   ],
   "source": [
    "d_P"
   ]
  },
  {
   "cell_type": "markdown",
   "id": "c6778300",
   "metadata": {},
   "source": [
    "### Part C"
   ]
  },
  {
   "cell_type": "markdown",
   "id": "f320a7f0",
   "metadata": {},
   "source": [
    "Explain why the maximum likelihood decoder for this problem involves comparing the\n",
    "measurement to a threshold. For various thresholds t, calculate the hit and false-alarm\n",
    "rates using your sample data from (a), and plot these against each other (this is an\n",
    "ROC curve, defined in class). What threshold would you pick based on this curve to\n",
    "maximize the percentage-correct of the decoder, assuming that 0% and 10% coherence\n",
    "stimuli occur equally often. Plot this threshold as a point on the ROC curve and as a\n",
    "vertical line on your histogram from part (a). Next, suppose that 10% coherence stimuli\n",
    "occur 75% of the time. Determine and plot the threshold that maximizes percentage\n",
    "correct for this new prior."
   ]
  },
  {
   "cell_type": "code",
   "execution_count": 18,
   "id": "5519a7a9",
   "metadata": {},
   "outputs": [
    {
     "data": {
      "text/plain": [
       "Text(0, 0.5, 'Count')"
      ]
     },
     "execution_count": 18,
     "metadata": {},
     "output_type": "execute_result"
    },
    {
     "data": {
      "image/png": "[encoded data removed]",
      "text/plain": [
       "<Figure size 432x288 with 1 Axes>"
      ]
     },
     "metadata": {
      "needs_background": "light"
     },
     "output_type": "display_data"
    }
   ],
   "source": [
    "r = (mu1 + mu2)/2 # Plots the threshold r\n",
    "\n",
    "\n",
    "\n",
    "plt.hist(dist1)\n",
    "plt.hist(dist2)\n",
    "plt.axvline(x = r, color = 'b', label = 'axvline - full height')\n",
    "plt.title('Histogram of Firing Rate')\n",
    "plt.xlabel('Firing Rate (spike/sec)')\n",
    "plt.ylabel('Count')"
   ]
  },
  {
   "cell_type": "code",
   "execution_count": null,
   "id": "bb7e54cc",
   "metadata": {},
   "outputs": [],
   "source": []
  }
 ],
 "metadata": {
  "kernelspec": {
   "display_name": "Python 3 (ipykernel)",
   "language": "python",
   "name": "python3"
  },
  "language_info": {
   "codemirror_mode": {
    "name": "ipython",
    "version": 3
   },
   "file_extension": ".py",
   "mimetype": "text/x-python",
   "name": "python",
   "nbconvert_exporter": "python",
   "pygments_lexer": "ipython3",
   "version": "3.9.12"
  }
 },
 "nbformat": 4,
 "nbformat_minor": 5
}
